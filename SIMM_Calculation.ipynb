{
 "cells": [
  {
   "cell_type": "code",
   "execution_count": null,
   "metadata": {
    "id": "xJ4tApYIqsk7"
   },
   "outputs": [],
   "source": [
    "# run this to clone the repository and install the dependencies\n",
    "# https://github.com/abukar10/ISDA_SIMM1.git"
   ]
  },
  {
   "cell_type": "code",
   "execution_count": 1,
   "metadata": {
    "colab": {
     "base_uri": "https://localhost:8080/"
    },
    "executionInfo": {
     "elapsed": 999,
     "status": "ok",
     "timestamp": 1750719634682,
     "user": {
      "displayName": "amali amali",
      "userId": "15718090331232743656"
     },
     "user_tz": -60
    },
    "id": "QjiWZ3s5qsib",
    "outputId": "152eccf2-1493-4fa2-a275-b6010d9ade09"
   },
   "outputs": [
    {
     "name": "stdout",
     "output_type": "stream",
     "text": [
      "Drive already mounted at /content/drive; to attempt to forcibly remount, call drive.mount(\"/content/drive\", force_remount=True).\n"
     ]
    }
   ],
   "source": [
    "from google.colab import drive\n",
    "drive.mount('/content/drive')\n"
   ]
  },
  {
   "cell_type": "code",
   "execution_count": 2,
   "metadata": {
    "colab": {
     "base_uri": "https://localhost:8080/"
    },
    "executionInfo": {
     "elapsed": 24,
     "status": "ok",
     "timestamp": 1750719636550,
     "user": {
      "displayName": "amali amali",
      "userId": "15718090331232743656"
     },
     "user_tz": -60
    },
    "id": "4VBjQS21qsfh",
    "outputId": "a5b52e98-740d-4713-b003-7410a83d2d77"
   },
   "outputs": [
    {
     "name": "stdout",
     "output_type": "stream",
     "text": [
      "/content/drive/MyDrive/ISDA_SIMM\n"
     ]
    }
   ],
   "source": [
    "%cd /content/drive/MyDrive/ISDA_SIMM/\n"
   ]
  },
  {
   "cell_type": "code",
   "execution_count": 3,
   "metadata": {
    "colab": {
     "base_uri": "https://localhost:8080/"
    },
    "executionInfo": {
     "elapsed": 107,
     "status": "ok",
     "timestamp": 1750719640007,
     "user": {
      "displayName": "amali amali",
      "userId": "15718090331232743656"
     },
     "user_tz": -60
    },
    "id": "239Yb7d-qkcC",
    "outputId": "10bafb3d-e5ad-4fc3-b95c-2ee142001807"
   },
   "outputs": [
    {
     "name": "stdout",
     "output_type": "stream",
     "text": [
      "/content/drive/MyDrive/ISDA_SIMM/ISDA_SIMM\n",
      "CRIF\t main.py    requirements.txt\t    src\n",
      "LICENSE  README.md  SIMM_Calculation.ipynb  Weights_and_Corr\n"
     ]
    }
   ],
   "source": [
    "%cd ISDA_SIMM\n",
    "!ls"
   ]
  },
  {
   "cell_type": "code",
   "execution_count": 4,
   "metadata": {
    "colab": {
     "base_uri": "https://localhost:8080/",
     "height": 1000
    },
    "collapsed": true,
    "executionInfo": {
     "elapsed": 23016,
     "status": "ok",
     "timestamp": 1750719626218,
     "user": {
      "displayName": "amali amali",
      "userId": "15718090331232743656"
     },
     "user_tz": -60
    },
    "id": "zLzVoN0trd-v",
    "outputId": "ccc7b31d-c9e9-4b81-a4e9-16ed70ea210b"
   },
   "outputs": [
    {
     "name": "stdout",
     "output_type": "stream",
     "text": [
      "Collecting pandas==2.0.3 (from -r /content/drive/MyDrive/ISDA_SIMM/ISDA_SIMM/requirements.txt (line 1))\n",
      "  Downloading pandas-2.0.3-cp311-cp311-manylinux_2_17_x86_64.manylinux2014_x86_64.whl.metadata (18 kB)\n",
      "Collecting scipy==1.11.2 (from -r /content/drive/MyDrive/ISDA_SIMM/ISDA_SIMM/requirements.txt (line 2))\n",
      "  Downloading scipy-1.11.2-cp311-cp311-manylinux_2_17_x86_64.manylinux2014_x86_64.whl.metadata (59 kB)\n",
      "\u001b[2K     \u001b[90m━━━━━━━━━━━━━━━━━━━━━━━━━━━━━━━━━━━━━━━━\u001b[0m \u001b[32m59.1/59.1 kB\u001b[0m \u001b[31m2.7 MB/s\u001b[0m eta \u001b[36m0:00:00\u001b[0m\n",
      "\u001b[?25hCollecting openpyxl==3.1.2 (from -r /content/drive/MyDrive/ISDA_SIMM/ISDA_SIMM/requirements.txt (line 3))\n",
      "  Downloading openpyxl-3.1.2-py2.py3-none-any.whl.metadata (2.5 kB)\n",
      "Requirement already satisfied: python-dateutil>=2.8.2 in /usr/local/lib/python3.11/dist-packages (from pandas==2.0.3->-r /content/drive/MyDrive/ISDA_SIMM/ISDA_SIMM/requirements.txt (line 1)) (2.9.0.post0)\n",
      "Requirement already satisfied: pytz>=2020.1 in /usr/local/lib/python3.11/dist-packages (from pandas==2.0.3->-r /content/drive/MyDrive/ISDA_SIMM/ISDA_SIMM/requirements.txt (line 1)) (2025.2)\n",
      "Requirement already satisfied: tzdata>=2022.1 in /usr/local/lib/python3.11/dist-packages (from pandas==2.0.3->-r /content/drive/MyDrive/ISDA_SIMM/ISDA_SIMM/requirements.txt (line 1)) (2025.2)\n",
      "Requirement already satisfied: numpy>=1.21.0 in /usr/local/lib/python3.11/dist-packages (from pandas==2.0.3->-r /content/drive/MyDrive/ISDA_SIMM/ISDA_SIMM/requirements.txt (line 1)) (2.0.2)\n",
      "Collecting numpy>=1.21.0 (from pandas==2.0.3->-r /content/drive/MyDrive/ISDA_SIMM/ISDA_SIMM/requirements.txt (line 1))\n",
      "  Downloading numpy-1.26.4-cp311-cp311-manylinux_2_17_x86_64.manylinux2014_x86_64.whl.metadata (61 kB)\n",
      "\u001b[2K     \u001b[90m━━━━━━━━━━━━━━━━━━━━━━━━━━━━━━━━━━━━━━━━\u001b[0m \u001b[32m61.0/61.0 kB\u001b[0m \u001b[31m5.0 MB/s\u001b[0m eta \u001b[36m0:00:00\u001b[0m\n",
      "\u001b[?25hRequirement already satisfied: et-xmlfile in /usr/local/lib/python3.11/dist-packages (from openpyxl==3.1.2->-r /content/drive/MyDrive/ISDA_SIMM/ISDA_SIMM/requirements.txt (line 3)) (2.0.0)\n",
      "Requirement already satisfied: six>=1.5 in /usr/local/lib/python3.11/dist-packages (from python-dateutil>=2.8.2->pandas==2.0.3->-r /content/drive/MyDrive/ISDA_SIMM/ISDA_SIMM/requirements.txt (line 1)) (1.17.0)\n",
      "Downloading pandas-2.0.3-cp311-cp311-manylinux_2_17_x86_64.manylinux2014_x86_64.whl (12.2 MB)\n",
      "\u001b[2K   \u001b[90m━━━━━━━━━━━━━━━━━━━━━━━━━━━━━━━━━━━━━━━━\u001b[0m \u001b[32m12.2/12.2 MB\u001b[0m \u001b[31m94.6 MB/s\u001b[0m eta \u001b[36m0:00:00\u001b[0m\n",
      "\u001b[?25hDownloading scipy-1.11.2-cp311-cp311-manylinux_2_17_x86_64.manylinux2014_x86_64.whl (36.3 MB)\n",
      "\u001b[2K   \u001b[90m━━━━━━━━━━━━━━━━━━━━━━━━━━━━━━━━━━━━━━━━\u001b[0m \u001b[32m36.3/36.3 MB\u001b[0m \u001b[31m30.3 MB/s\u001b[0m eta \u001b[36m0:00:00\u001b[0m\n",
      "\u001b[?25hDownloading openpyxl-3.1.2-py2.py3-none-any.whl (249 kB)\n",
      "\u001b[2K   \u001b[90m━━━━━━━━━━━━━━━━━━━━━━━━━━━━━━━━━━━━━━━━\u001b[0m \u001b[32m250.0/250.0 kB\u001b[0m \u001b[31m19.3 MB/s\u001b[0m eta \u001b[36m0:00:00\u001b[0m\n",
      "\u001b[?25hDownloading numpy-1.26.4-cp311-cp311-manylinux_2_17_x86_64.manylinux2014_x86_64.whl (18.3 MB)\n",
      "\u001b[2K   \u001b[90m━━━━━━━━━━━━━━━━━━━━━━━━━━━━━━━━━━━━━━━━\u001b[0m \u001b[32m18.3/18.3 MB\u001b[0m \u001b[31m51.0 MB/s\u001b[0m eta \u001b[36m0:00:00\u001b[0m\n",
      "\u001b[?25hInstalling collected packages: openpyxl, numpy, scipy, pandas\n",
      "  Attempting uninstall: openpyxl\n",
      "    Found existing installation: openpyxl 3.1.5\n",
      "    Uninstalling openpyxl-3.1.5:\n",
      "      Successfully uninstalled openpyxl-3.1.5\n",
      "  Attempting uninstall: numpy\n",
      "    Found existing installation: numpy 2.0.2\n",
      "    Uninstalling numpy-2.0.2:\n",
      "      Successfully uninstalled numpy-2.0.2\n",
      "  Attempting uninstall: scipy\n",
      "    Found existing installation: scipy 1.15.3\n",
      "    Uninstalling scipy-1.15.3:\n",
      "      Successfully uninstalled scipy-1.15.3\n",
      "  Attempting uninstall: pandas\n",
      "    Found existing installation: pandas 2.2.2\n",
      "    Uninstalling pandas-2.2.2:\n",
      "      Successfully uninstalled pandas-2.2.2\n",
      "\u001b[31mERROR: pip's dependency resolver does not currently take into account all the packages that are installed. This behaviour is the source of the following dependency conflicts.\n",
      "google-colab 1.0.0 requires pandas==2.2.2, but you have pandas 2.0.3 which is incompatible.\n",
      "tsfresh 0.21.0 requires scipy>=1.14.0; python_version >= \"3.10\", but you have scipy 1.11.2 which is incompatible.\n",
      "thinc 8.3.6 requires numpy<3.0.0,>=2.0.0, but you have numpy 1.26.4 which is incompatible.\n",
      "mizani 0.13.5 requires pandas>=2.2.0, but you have pandas 2.0.3 which is incompatible.\n",
      "scikit-image 0.25.2 requires scipy>=1.11.4, but you have scipy 1.11.2 which is incompatible.\n",
      "xarray 2025.3.1 requires pandas>=2.1, but you have pandas 2.0.3 which is incompatible.\n",
      "plotnine 0.14.5 requires pandas>=2.2.0, but you have pandas 2.0.3 which is incompatible.\u001b[0m\u001b[31m\n",
      "\u001b[0mSuccessfully installed numpy-1.26.4 openpyxl-3.1.2 pandas-2.0.3 scipy-1.11.2\n"
     ]
    },
    {
     "data": {
      "application/vnd.colab-display-data+json": {
       "id": "5be4ab266a6441ee95d53eb2fd54eecb",
       "pip_warning": {
        "packages": [
         "numpy"
        ]
       }
      }
     },
     "metadata": {},
     "output_type": "display_data"
    }
   ],
   "source": [
    "#!pip install -r /content/drive/MyDrive/ISDA_SIMM/ISDA_SIMM/requirements.txt\n"
   ]
  },
  {
   "cell_type": "code",
   "execution_count": 4,
   "metadata": {
    "colab": {
     "base_uri": "https://localhost:8080/",
     "height": 206
    },
    "executionInfo": {
     "elapsed": 640,
     "status": "ok",
     "timestamp": 1750719654212,
     "user": {
      "displayName": "amali amali",
      "userId": "15718090331232743656"
     },
     "user_tz": -60
    },
    "id": "gPn83cH9stwH",
    "outputId": "293a4612-76b4-4405-cde8-0525c4262ed3"
   },
   "outputs": [
    {
     "data": {
      "application/vnd.google.colaboratory.intrinsic+json": {
       "summary": "{\n  \"name\": \"crif\",\n  \"rows\": 270,\n  \"fields\": [\n    {\n      \"column\": \"ProductClass\",\n      \"properties\": {\n        \"dtype\": \"category\",\n        \"num_unique_values\": 4,\n        \"samples\": [\n          \"Commodity\",\n          \"RatesFX\",\n          \"Equity\"\n        ],\n        \"semantic_type\": \"\",\n        \"description\": \"\"\n      }\n    },\n    {\n      \"column\": \"RiskType\",\n      \"properties\": {\n        \"dtype\": \"category\",\n        \"num_unique_values\": 19,\n        \"samples\": [\n          \"Risk_Equity\",\n          \"Risk_Inflation\",\n          \"Risk_CreditNonQ\"\n        ],\n        \"semantic_type\": \"\",\n        \"description\": \"\"\n      }\n    },\n    {\n      \"column\": \"Qualifier\",\n      \"properties\": {\n        \"dtype\": \"category\",\n        \"num_unique_values\": 80,\n        \"samples\": [\n          \"GBP\",\n          \"AAPL\",\n          \"Gas\"\n        ],\n        \"semantic_type\": \"\",\n        \"description\": \"\"\n      }\n    },\n    {\n      \"column\": \"Bucket\",\n      \"properties\": {\n        \"dtype\": \"category\",\n        \"num_unique_values\": 18,\n        \"samples\": [\n          \"1\",\n          \"10\",\n          \"9\"\n        ],\n        \"semantic_type\": \"\",\n        \"description\": \"\"\n      }\n    },\n    {\n      \"column\": \"Label1\",\n      \"properties\": {\n        \"dtype\": \"category\",\n        \"num_unique_values\": 12,\n        \"samples\": [\n          \"1y\",\n          \"2w\",\n          \"5y\"\n        ],\n        \"semantic_type\": \"\",\n        \"description\": \"\"\n      }\n    },\n    {\n      \"column\": \"Label2\",\n      \"properties\": {\n        \"dtype\": \"category\",\n        \"num_unique_values\": 11,\n        \"samples\": [\n          \"CNY\",\n          \"Libor12m\",\n          \"EUR\"\n        ],\n        \"semantic_type\": \"\",\n        \"description\": \"\"\n      }\n    },\n    {\n      \"column\": \"Amount\",\n      \"properties\": {\n        \"dtype\": \"number\",\n        \"std\": 218441.89612461303,\n        \"min\": -850000.0,\n        \"max\": 1250000.0,\n        \"num_unique_values\": 164,\n        \"samples\": [\n          -6800.0,\n          500.0,\n          -20000.0\n        ],\n        \"semantic_type\": \"\",\n        \"description\": \"\"\n      }\n    },\n    {\n      \"column\": \"AmountCurrency\",\n      \"properties\": {\n        \"dtype\": \"category\",\n        \"num_unique_values\": 2,\n        \"samples\": [\n          \"EUR\",\n          \"USD\"\n        ],\n        \"semantic_type\": \"\",\n        \"description\": \"\"\n      }\n    },\n    {\n      \"column\": \"AmountUSD\",\n      \"properties\": {\n        \"dtype\": \"number\",\n        \"std\": 222712.8432053866,\n        \"min\": -850000.0,\n        \"max\": 1250000.0,\n        \"num_unique_values\": 175,\n        \"samples\": [\n          500000.0,\n          -5800.0\n        ],\n        \"semantic_type\": \"\",\n        \"description\": \"\"\n      }\n    }\n  ]\n}",
       "type": "dataframe",
       "variable_name": "crif"
      },
      "text/html": [
       "\n",
       "  <div id=\"df-78a20f42-0023-49c5-95cc-610f953a8a8e\" class=\"colab-df-container\">\n",
       "    <div>\n",
       "<style scoped>\n",
       "    .dataframe tbody tr th:only-of-type {\n",
       "        vertical-align: middle;\n",
       "    }\n",
       "\n",
       "    .dataframe tbody tr th {\n",
       "        vertical-align: top;\n",
       "    }\n",
       "\n",
       "    .dataframe thead th {\n",
       "        text-align: right;\n",
       "    }\n",
       "</style>\n",
       "<table border=\"1\" class=\"dataframe\">\n",
       "  <thead>\n",
       "    <tr style=\"text-align: right;\">\n",
       "      <th></th>\n",
       "      <th>ProductClass</th>\n",
       "      <th>RiskType</th>\n",
       "      <th>Qualifier</th>\n",
       "      <th>Bucket</th>\n",
       "      <th>Label1</th>\n",
       "      <th>Label2</th>\n",
       "      <th>Amount</th>\n",
       "      <th>AmountCurrency</th>\n",
       "      <th>AmountUSD</th>\n",
       "    </tr>\n",
       "  </thead>\n",
       "  <tbody>\n",
       "    <tr>\n",
       "      <th>0</th>\n",
       "      <td>Equity</td>\n",
       "      <td>Risk_Equity</td>\n",
       "      <td>AAPL</td>\n",
       "      <td>1</td>\n",
       "      <td>NaN</td>\n",
       "      <td>NaN</td>\n",
       "      <td>1250000.0</td>\n",
       "      <td>USD</td>\n",
       "      <td>1250000.0</td>\n",
       "    </tr>\n",
       "    <tr>\n",
       "      <th>1</th>\n",
       "      <td>Equity</td>\n",
       "      <td>Risk_Equity</td>\n",
       "      <td>AGNC</td>\n",
       "      <td>10</td>\n",
       "      <td>NaN</td>\n",
       "      <td>NaN</td>\n",
       "      <td>-850000.0</td>\n",
       "      <td>USD</td>\n",
       "      <td>-850000.0</td>\n",
       "    </tr>\n",
       "    <tr>\n",
       "      <th>2</th>\n",
       "      <td>Commodity</td>\n",
       "      <td>Risk_CommodityVol</td>\n",
       "      <td>Agriculture Index</td>\n",
       "      <td>17</td>\n",
       "      <td>5y</td>\n",
       "      <td>NaN</td>\n",
       "      <td>720000.0</td>\n",
       "      <td>USD</td>\n",
       "      <td>720000.0</td>\n",
       "    </tr>\n",
       "    <tr>\n",
       "      <th>3</th>\n",
       "      <td>Commodity</td>\n",
       "      <td>Risk_Commodity</td>\n",
       "      <td>Agriculture Index</td>\n",
       "      <td>17</td>\n",
       "      <td>NaN</td>\n",
       "      <td>NaN</td>\n",
       "      <td>550000.0</td>\n",
       "      <td>USD</td>\n",
       "      <td>550000.0</td>\n",
       "    </tr>\n",
       "    <tr>\n",
       "      <th>4</th>\n",
       "      <td>Equity</td>\n",
       "      <td>Risk_Equity</td>\n",
       "      <td>AMZN</td>\n",
       "      <td>2</td>\n",
       "      <td>NaN</td>\n",
       "      <td>NaN</td>\n",
       "      <td>420000.0</td>\n",
       "      <td>USD</td>\n",
       "      <td>420000.0</td>\n",
       "    </tr>\n",
       "  </tbody>\n",
       "</table>\n",
       "</div>\n",
       "    <div class=\"colab-df-buttons\">\n",
       "\n",
       "  <div class=\"colab-df-container\">\n",
       "    <button class=\"colab-df-convert\" onclick=\"convertToInteractive('df-78a20f42-0023-49c5-95cc-610f953a8a8e')\"\n",
       "            title=\"Convert this dataframe to an interactive table.\"\n",
       "            style=\"display:none;\">\n",
       "\n",
       "  <svg xmlns=\"http://www.w3.org/2000/svg\" height=\"24px\" viewBox=\"0 -960 960 960\">\n",
       "    <path d=\"M120-120v-720h720v720H120Zm60-500h600v-160H180v160Zm220 220h160v-160H400v160Zm0 220h160v-160H400v160ZM180-400h160v-160H180v160Zm440 0h160v-160H620v160ZM180-180h160v-160H180v160Zm440 0h160v-160H620v160Z\"/>\n",
       "  </svg>\n",
       "    </button>\n",
       "\n",
       "  <style>\n",
       "    .colab-df-container {\n",
       "      display:flex;\n",
       "      gap: 12px;\n",
       "    }\n",
       "\n",
       "    .colab-df-convert {\n",
       "      background-color: #E8F0FE;\n",
       "      border: none;\n",
       "      border-radius: 50%;\n",
       "      cursor: pointer;\n",
       "      display: none;\n",
       "      fill: #1967D2;\n",
       "      height: 32px;\n",
       "      padding: 0 0 0 0;\n",
       "      width: 32px;\n",
       "    }\n",
       "\n",
       "    .colab-df-convert:hover {\n",
       "      background-color: #E2EBFA;\n",
       "      box-shadow: 0px 1px 2px rgba(60, 64, 67, 0.3), 0px 1px 3px 1px rgba(60, 64, 67, 0.15);\n",
       "      fill: #174EA6;\n",
       "    }\n",
       "\n",
       "    .colab-df-buttons div {\n",
       "      margin-bottom: 4px;\n",
       "    }\n",
       "\n",
       "    [theme=dark] .colab-df-convert {\n",
       "      background-color: #3B4455;\n",
       "      fill: #D2E3FC;\n",
       "    }\n",
       "\n",
       "    [theme=dark] .colab-df-convert:hover {\n",
       "      background-color: #434B5C;\n",
       "      box-shadow: 0px 1px 3px 1px rgba(0, 0, 0, 0.15);\n",
       "      filter: drop-shadow(0px 1px 2px rgba(0, 0, 0, 0.3));\n",
       "      fill: #FFFFFF;\n",
       "    }\n",
       "  </style>\n",
       "\n",
       "    <script>\n",
       "      const buttonEl =\n",
       "        document.querySelector('#df-78a20f42-0023-49c5-95cc-610f953a8a8e button.colab-df-convert');\n",
       "      buttonEl.style.display =\n",
       "        google.colab.kernel.accessAllowed ? 'block' : 'none';\n",
       "\n",
       "      async function convertToInteractive(key) {\n",
       "        const element = document.querySelector('#df-78a20f42-0023-49c5-95cc-610f953a8a8e');\n",
       "        const dataTable =\n",
       "          await google.colab.kernel.invokeFunction('convertToInteractive',\n",
       "                                                    [key], {});\n",
       "        if (!dataTable) return;\n",
       "\n",
       "        const docLinkHtml = 'Like what you see? Visit the ' +\n",
       "          '<a target=\"_blank\" href=https://colab.research.google.com/notebooks/data_table.ipynb>data table notebook</a>'\n",
       "          + ' to learn more about interactive tables.';\n",
       "        element.innerHTML = '';\n",
       "        dataTable['output_type'] = 'display_data';\n",
       "        await google.colab.output.renderOutput(dataTable, element);\n",
       "        const docLink = document.createElement('div');\n",
       "        docLink.innerHTML = docLinkHtml;\n",
       "        element.appendChild(docLink);\n",
       "      }\n",
       "    </script>\n",
       "  </div>\n",
       "\n",
       "\n",
       "    <div id=\"df-85c59b59-53d0-4d1e-8b03-3343a8db0c46\">\n",
       "      <button class=\"colab-df-quickchart\" onclick=\"quickchart('df-85c59b59-53d0-4d1e-8b03-3343a8db0c46')\"\n",
       "                title=\"Suggest charts\"\n",
       "                style=\"display:none;\">\n",
       "\n",
       "<svg xmlns=\"http://www.w3.org/2000/svg\" height=\"24px\"viewBox=\"0 0 24 24\"\n",
       "     width=\"24px\">\n",
       "    <g>\n",
       "        <path d=\"M19 3H5c-1.1 0-2 .9-2 2v14c0 1.1.9 2 2 2h14c1.1 0 2-.9 2-2V5c0-1.1-.9-2-2-2zM9 17H7v-7h2v7zm4 0h-2V7h2v10zm4 0h-2v-4h2v4z\"/>\n",
       "    </g>\n",
       "</svg>\n",
       "      </button>\n",
       "\n",
       "<style>\n",
       "  .colab-df-quickchart {\n",
       "      --bg-color: #E8F0FE;\n",
       "      --fill-color: #1967D2;\n",
       "      --hover-bg-color: #E2EBFA;\n",
       "      --hover-fill-color: #174EA6;\n",
       "      --disabled-fill-color: #AAA;\n",
       "      --disabled-bg-color: #DDD;\n",
       "  }\n",
       "\n",
       "  [theme=dark] .colab-df-quickchart {\n",
       "      --bg-color: #3B4455;\n",
       "      --fill-color: #D2E3FC;\n",
       "      --hover-bg-color: #434B5C;\n",
       "      --hover-fill-color: #FFFFFF;\n",
       "      --disabled-bg-color: #3B4455;\n",
       "      --disabled-fill-color: #666;\n",
       "  }\n",
       "\n",
       "  .colab-df-quickchart {\n",
       "    background-color: var(--bg-color);\n",
       "    border: none;\n",
       "    border-radius: 50%;\n",
       "    cursor: pointer;\n",
       "    display: none;\n",
       "    fill: var(--fill-color);\n",
       "    height: 32px;\n",
       "    padding: 0;\n",
       "    width: 32px;\n",
       "  }\n",
       "\n",
       "  .colab-df-quickchart:hover {\n",
       "    background-color: var(--hover-bg-color);\n",
       "    box-shadow: 0 1px 2px rgba(60, 64, 67, 0.3), 0 1px 3px 1px rgba(60, 64, 67, 0.15);\n",
       "    fill: var(--button-hover-fill-color);\n",
       "  }\n",
       "\n",
       "  .colab-df-quickchart-complete:disabled,\n",
       "  .colab-df-quickchart-complete:disabled:hover {\n",
       "    background-color: var(--disabled-bg-color);\n",
       "    fill: var(--disabled-fill-color);\n",
       "    box-shadow: none;\n",
       "  }\n",
       "\n",
       "  .colab-df-spinner {\n",
       "    border: 2px solid var(--fill-color);\n",
       "    border-color: transparent;\n",
       "    border-bottom-color: var(--fill-color);\n",
       "    animation:\n",
       "      spin 1s steps(1) infinite;\n",
       "  }\n",
       "\n",
       "  @keyframes spin {\n",
       "    0% {\n",
       "      border-color: transparent;\n",
       "      border-bottom-color: var(--fill-color);\n",
       "      border-left-color: var(--fill-color);\n",
       "    }\n",
       "    20% {\n",
       "      border-color: transparent;\n",
       "      border-left-color: var(--fill-color);\n",
       "      border-top-color: var(--fill-color);\n",
       "    }\n",
       "    30% {\n",
       "      border-color: transparent;\n",
       "      border-left-color: var(--fill-color);\n",
       "      border-top-color: var(--fill-color);\n",
       "      border-right-color: var(--fill-color);\n",
       "    }\n",
       "    40% {\n",
       "      border-color: transparent;\n",
       "      border-right-color: var(--fill-color);\n",
       "      border-top-color: var(--fill-color);\n",
       "    }\n",
       "    60% {\n",
       "      border-color: transparent;\n",
       "      border-right-color: var(--fill-color);\n",
       "    }\n",
       "    80% {\n",
       "      border-color: transparent;\n",
       "      border-right-color: var(--fill-color);\n",
       "      border-bottom-color: var(--fill-color);\n",
       "    }\n",
       "    90% {\n",
       "      border-color: transparent;\n",
       "      border-bottom-color: var(--fill-color);\n",
       "    }\n",
       "  }\n",
       "</style>\n",
       "\n",
       "      <script>\n",
       "        async function quickchart(key) {\n",
       "          const quickchartButtonEl =\n",
       "            document.querySelector('#' + key + ' button');\n",
       "          quickchartButtonEl.disabled = true;  // To prevent multiple clicks.\n",
       "          quickchartButtonEl.classList.add('colab-df-spinner');\n",
       "          try {\n",
       "            const charts = await google.colab.kernel.invokeFunction(\n",
       "                'suggestCharts', [key], {});\n",
       "          } catch (error) {\n",
       "            console.error('Error during call to suggestCharts:', error);\n",
       "          }\n",
       "          quickchartButtonEl.classList.remove('colab-df-spinner');\n",
       "          quickchartButtonEl.classList.add('colab-df-quickchart-complete');\n",
       "        }\n",
       "        (() => {\n",
       "          let quickchartButtonEl =\n",
       "            document.querySelector('#df-85c59b59-53d0-4d1e-8b03-3343a8db0c46 button');\n",
       "          quickchartButtonEl.style.display =\n",
       "            google.colab.kernel.accessAllowed ? 'block' : 'none';\n",
       "        })();\n",
       "      </script>\n",
       "    </div>\n",
       "\n",
       "    </div>\n",
       "  </div>\n"
      ],
      "text/plain": [
       "  ProductClass           RiskType          Qualifier Bucket Label1 Label2  \\\n",
       "0       Equity        Risk_Equity               AAPL      1    NaN    NaN   \n",
       "1       Equity        Risk_Equity               AGNC     10    NaN    NaN   \n",
       "2    Commodity  Risk_CommodityVol  Agriculture Index     17     5y    NaN   \n",
       "3    Commodity     Risk_Commodity  Agriculture Index     17    NaN    NaN   \n",
       "4       Equity        Risk_Equity               AMZN      2    NaN    NaN   \n",
       "\n",
       "      Amount AmountCurrency  AmountUSD  \n",
       "0  1250000.0            USD  1250000.0  \n",
       "1  -850000.0            USD  -850000.0  \n",
       "2   720000.0            USD   720000.0  \n",
       "3   550000.0            USD   550000.0  \n",
       "4   420000.0            USD   420000.0  "
      ]
     },
     "execution_count": 4,
     "metadata": {},
     "output_type": "execute_result"
    }
   ],
   "source": [
    "import pandas as pd\n",
    "\n",
    "crif_path = '/content/drive/MyDrive/ISDA_SIMM/ISDA_SIMM/CRIF/crif.csv'\n",
    "crif = pd.read_csv(crif_path)\n",
    "crif.head(5)"
   ]
  },
  {
   "cell_type": "code",
   "execution_count": 5,
   "metadata": {
    "colab": {
     "base_uri": "https://localhost:8080/"
    },
    "executionInfo": {
     "elapsed": 111,
     "status": "ok",
     "timestamp": 1750719659353,
     "user": {
      "displayName": "amali amali",
      "userId": "15718090331232743656"
     },
     "user_tz": -60
    },
    "id": "92yORvL8tu16",
    "outputId": "af9674f3-4694-4a1f-832f-f85e6ea62543"
   },
   "outputs": [
    {
     "name": "stdout",
     "output_type": "stream",
     "text": [
      "import pandas as pd\n",
      "from src.agg_margins import SIMM\n",
      "\n",
      "\n",
      "if __name__ == '__main__':\n",
      "\n",
      "    path = 'CRIF/'\n",
      "    crif = pd.read_csv(path+'crif.csv', header=0)\n",
      "    portfolio1 = SIMM(crif, \"USD\", 1)\n",
      "    \n"
     ]
    }
   ],
   "source": [
    "!head main.py\n"
   ]
  },
  {
   "cell_type": "code",
   "execution_count": 6,
   "metadata": {
    "colab": {
     "base_uri": "https://localhost:8080/"
    },
    "executionInfo": {
     "elapsed": 2931,
     "status": "ok",
     "timestamp": 1750719665425,
     "user": {
      "displayName": "amali amali",
      "userId": "15718090331232743656"
     },
     "user_tz": -60
    },
    "id": "rhdlAum0vT45",
    "outputId": "969e3c18-c5b5-4470-8def-149339e1dd15"
   },
   "outputs": [
    {
     "name": "stdout",
     "output_type": "stream",
     "text": [
      "691760177.9654995\n",
      "                                                                                                     SIMM_RiskMeasure\n",
      "SIMM Total     Add-On        Product Class SIMM_ProductClass Risk Class SIMM_RiskClass Risk Measure                  \n",
      "691,760,177.97 42,078,837.37 Commodity     97,377,819.17     Commodity  97,377,819.17  Curvature        68,416,913.48\n",
      "                                                                                       Delta            17,970,815.45\n",
      "                                                                                       Vega             10,990,090.23\n",
      "                             Credit        162,772,369.67    CreditNonQ 152,572,346.95 Curvature                57.07\n",
      "                                                                                       Delta           152,545,036.93\n",
      "                                                                                       Vega                 27,252.95\n",
      "                                                             CreditQ    14,163,978.32  BaseCorr             232,650.0\n",
      "                                                                                       Curvature               107.54\n",
      "                                                                                       Delta            13,874,501.04\n",
      "                                                                                       Vega                 56,719.73\n",
      "                                                             Equity     468,000.0      Curvature                  0.0\n",
      "                                                                                       Delta                468,000.0\n",
      "                                                                                       Vega                       0.0\n",
      "                                                             FX         533,049.98     Curvature                  0.0\n",
      "                                                                                       Delta               533,049.98\n",
      "                                                                                       Vega                       0.0\n",
      "                                                             Rates      14,703,368.27  Curvature                  0.0\n",
      "                                                                                       Delta            14,703,368.27\n",
      "                                                                                       Vega                       0.0\n",
      "                             Equity        107,560,420.99    Equity     106,100,269.18 Curvature        31,284,809.15\n",
      "                                                                                       Delta            65,435,050.57\n",
      "                                                                                       Vega              9,380,409.46\n",
      "                                                             Rates      11,108,497.33  Curvature                  0.0\n",
      "                                                                                       Delta            11,108,497.33\n",
      "                                                                                       Vega                       0.0\n",
      "                             RatesFX       281,970,730.77    FX         19,542,677.31  Curvature         3,914,453.87\n",
      "                                                                                       Delta            13,959,318.54\n",
      "                                                                                       Vega              1,668,904.89\n",
      "                                                             Rates      279,539,346.55 Curvature             7,572.49\n",
      "                                                                                       Delta           279,361,774.06\n",
      "                                                                                       Vega                 170,000.0\n"
     ]
    }
   ],
   "source": [
    "\n",
    "!python main.py"
   ]
  },
  {
   "cell_type": "markdown",
   "metadata": {
    "id": "MFoECNxlvKKZ"
   },
   "source": []
  },
  {
   "cell_type": "code",
   "execution_count": 7,
   "metadata": {
    "colab": {
     "base_uri": "https://localhost:8080/"
    },
    "executionInfo": {
     "elapsed": 2127,
     "status": "ok",
     "timestamp": 1750718526875,
     "user": {
      "displayName": "amali amali",
      "userId": "15718090331232743656"
     },
     "user_tz": -60
    },
    "id": "16PwO9rp-pZm",
    "outputId": "7c70cdd6-efbb-49c1-f56b-6e0a251d3e3a"
   },
   "outputs": [
    {
     "name": "stdout",
     "output_type": "stream",
     "text": [
      "/content/drive/MyDrive/ISDA_SIMM/ISDA_SIMM/src/agg_margins.py:84: FutureWarning: The behavior of DataFrame concatenation with empty or all-NA entries is deprecated. In a future version, this will no longer exclude empty or all-NA columns when determining the result dtypes. To retain the old behavior, exclude the relevant entries before the concat operation.\n",
      "  df_main = pd.concat([df_main, df_local_sensiType])\n",
      "/content/drive/MyDrive/ISDA_SIMM/ISDA_SIMM/src/agg_margins.py:90: FutureWarning: The behavior of DataFrame concatenation with empty or all-NA entries is deprecated. In a future version, this will no longer exclude empty or all-NA columns when determining the result dtypes. To retain the old behavior, exclude the relevant entries before the concat operation.\n",
      "  df_risk_class = pd.concat([df_risk_class, df_local_riskType])\n",
      "/content/drive/MyDrive/ISDA_SIMM/ISDA_SIMM/src/agg_margins.py:84: FutureWarning: The behavior of DataFrame concatenation with empty or all-NA entries is deprecated. In a future version, this will no longer exclude empty or all-NA columns when determining the result dtypes. To retain the old behavior, exclude the relevant entries before the concat operation.\n",
      "  df_main = pd.concat([df_main, df_local_sensiType])\n",
      "/content/drive/MyDrive/ISDA_SIMM/ISDA_SIMM/src/agg_margins.py:90: FutureWarning: The behavior of DataFrame concatenation with empty or all-NA entries is deprecated. In a future version, this will no longer exclude empty or all-NA columns when determining the result dtypes. To retain the old behavior, exclude the relevant entries before the concat operation.\n",
      "  df_risk_class = pd.concat([df_risk_class, df_local_riskType])\n",
      "/content/drive/MyDrive/ISDA_SIMM/ISDA_SIMM/src/agg_margins.py:84: FutureWarning: The behavior of DataFrame concatenation with empty or all-NA entries is deprecated. In a future version, this will no longer exclude empty or all-NA columns when determining the result dtypes. To retain the old behavior, exclude the relevant entries before the concat operation.\n",
      "  df_main = pd.concat([df_main, df_local_sensiType])\n",
      "/content/drive/MyDrive/ISDA_SIMM/ISDA_SIMM/src/agg_margins.py:84: FutureWarning: The behavior of DataFrame concatenation with empty or all-NA entries is deprecated. In a future version, this will no longer exclude empty or all-NA columns when determining the result dtypes. To retain the old behavior, exclude the relevant entries before the concat operation.\n",
      "  df_main = pd.concat([df_main, df_local_sensiType])\n",
      "/content/drive/MyDrive/ISDA_SIMM/ISDA_SIMM/src/agg_margins.py:90: FutureWarning: The behavior of DataFrame concatenation with empty or all-NA entries is deprecated. In a future version, this will no longer exclude empty or all-NA columns when determining the result dtypes. To retain the old behavior, exclude the relevant entries before the concat operation.\n",
      "  df_risk_class = pd.concat([df_risk_class, df_local_riskType])\n",
      "17160305964.986126\n",
      "                                                                                                            SIMM_RiskMeasure\n",
      "SIMM Total        Add-On         Product Class SIMM_ProductClass Risk Class SIMM_RiskClass    Risk Measure                  \n",
      "17,160,305,964.99 865,685,368.85 Commodity     339,045,085.73    Commodity  339,045,085.73    Curvature         40,704,987.4\n",
      "                                                                                              Delta           189,379,973.36\n",
      "                                                                                              Vega            108,960,124.97\n",
      "                                 Credit        14,753,961,065.17 CreditNonQ 12,403,098,591.87 Curvature            37,279.59\n",
      "                                                                                              Delta        12,401,687,156.64\n",
      "                                                                                              Vega              1,374,155.64\n",
      "                                                                 CreditQ    3,646,291,459.95  BaseCorr           8,222,230.0\n",
      "                                                                                              Curvature            33,337.56\n",
      "                                                                                              Delta         3,635,615,442.41\n",
      "                                                                                              Vega              2,420,449.99\n",
      "                                                                 Equity     82,199,370.35     Curvature                  0.0\n",
      "                                                                                              Delta            82,199,370.35\n",
      "                                                                                              Vega                       0.0\n",
      "                                                                 FX         7,185,584.22      Curvature                  0.0\n",
      "                                                                                              Delta             7,185,584.22\n",
      "                                                                                              Vega                       0.0\n",
      "                                                                 Rates      196,024,739.4     Curvature                  0.0\n",
      "                                                                                              Delta            196,024,739.4\n",
      "                                                                                              Vega                       0.0\n",
      "                                 Equity        459,818,122.84    Equity     310,604,063.19    Curvature        13,823,144.02\n",
      "                                                                                              Delta           199,875,534.81\n",
      "                                                                                              Vega             96,905,384.36\n",
      "                                                                 Rates      318,008,431.48    Curvature                  0.0\n",
      "                                                                                              Delta           318,008,431.48\n",
      "                                                                                              Vega                       0.0\n",
      "                                 RatesFX       741,796,322.4     FX         26,212,645.82     Curvature         9,185,361.42\n",
      "                                                                                              Delta            12,089,717.24\n",
      "                                                                                              Vega              4,937,567.16\n",
      "                                                                 Rates      737,672,355.96    Curvature             1,706.73\n",
      "                                                                                              Delta           737,650,204.98\n",
      "                                                                                              Vega                 20,444.24\n"
     ]
    }
   ],
   "source": [
    "\n",
    "!python main.py"
   ]
  }
 ],
 "metadata": {
  "colab": {
   "authorship_tag": "ABX9TyOmdNOsPuH7+J+2EDRhuRjo",
   "provenance": []
  },
  "kernelspec": {
   "display_name": "Python 3",
   "name": "python3"
  },
  "language_info": {
   "name": "python"
  }
 },
 "nbformat": 4,
 "nbformat_minor": 0
}
